{
  "nbformat": 4,
  "nbformat_minor": 0,
  "metadata": {
    "colab": {
      "provenance": [],
      "authorship_tag": "ABX9TyN9W+TF8rlUCnaafg0alvRP",
      "include_colab_link": true
    },
    "kernelspec": {
      "name": "python3",
      "display_name": "Python 3"
    },
    "language_info": {
      "name": "python"
    }
  },
  "cells": [
    {
      "cell_type": "markdown",
      "metadata": {
        "id": "view-in-github",
        "colab_type": "text"
      },
      "source": [
        "<a href=\"https://colab.research.google.com/github/Shahid619/Machine-learning-/blob/main/cep.ipynb\" target=\"_parent\"><img src=\"https://colab.research.google.com/assets/colab-badge.svg\" alt=\"Open In Colab\"/></a>"
      ]
    },
    {
      "cell_type": "code",
      "source": [
        "!pip install googletrans==4.0.0-rc1\n"
      ],
      "metadata": {
        "id": "nU4ZGtKaTw51"
      },
      "execution_count": null,
      "outputs": []
    },
    {
      "cell_type": "code",
      "execution_count": null,
      "metadata": {
        "id": "rixltgPGPHTe"
      },
      "outputs": [],
      "source": [
        "from googletrans import Translator, LANGUAGES\n",
        "\n",
        "def is_name(word):\n",
        "\n",
        "    return word.istitle()\n",
        "\n",
        "def translate_text(text, target_language):\n",
        "    translator = Translator()\n",
        "    translation = translator.translate(text, dest=target_language)\n",
        "    return translation.text\n",
        "\n",
        "def main():\n",
        "    while True:\n",
        "        print(\"1. English to Urdu\")\n",
        "        print(\"2. Urdu to English\")\n",
        "        print(\"3. Exit\")\n",
        "\n",
        "        choice = input(\"Enter your choice (1/2/3): \")\n",
        "\n",
        "        if choice == '1':\n",
        "            user_input = input(\"Enter English text to translate to Urdu: \")\n",
        "            translated_text = translate_text(user_input, 'ur')\n",
        "            print(\"Translated Text (Urdu):\", translated_text)\n",
        "\n",
        "        elif choice == '2':\n",
        "            user_input = input(\"Enter Urdu text to translate to English: \")\n",
        "            translated_text = translate_text(user_input, 'en')\n",
        "            print(\"Translated Text (English):\", translated_text)\n",
        "\n",
        "        elif choice == '3':\n",
        "            print(\"Exiting the translator. Goodbye!\")\n",
        "            break\n",
        "\n",
        "        else:\n",
        "            print(\"Invalid choice. Please enter 1, 2, or 3.\")\n",
        "\n",
        "if __name__ == \"__main__\":\n",
        "    main()\n"
      ]
    }
  ]
}