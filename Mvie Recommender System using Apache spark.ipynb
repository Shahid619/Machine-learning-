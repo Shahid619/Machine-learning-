{
  "cells": [
    {
      "cell_type": "markdown",
      "metadata": {
        "id": "view-in-github",
        "colab_type": "text"
      },
      "source": [
        "<a href=\"https://colab.research.google.com/github/Shahid619/Machine-learning-/blob/main/Mvie%20Recommender%20System%20using%20Apache%20spark.ipynb\" target=\"_parent\"><img src=\"https://colab.research.google.com/assets/colab-badge.svg\" alt=\"Open In Colab\"/></a>"
      ]
    },
    {
      "cell_type": "markdown",
      "source": [
        "**installing jdk & pyspark**"
      ],
      "metadata": {
        "id": "MA-Jedvl2fzt"
      }
    },
    {
      "cell_type": "code",
      "execution_count": null,
      "metadata": {
        "id": "d4waz-F3G7z5"
      },
      "outputs": [],
      "source": [
        "!apt-get update -q\n",
        "!apt-get install -y openjdk-11-jdk-headless -qq > /dev/null\n",
        "!pip install -q pyspark\n"
      ]
    },
    {
      "cell_type": "markdown",
      "source": [
        "**downloading & deploying spark**"
      ],
      "metadata": {
        "id": "ZlJEMoJf2qNE"
      }
    },
    {
      "cell_type": "code",
      "source": [
        "# Download Spark\n",
        "!wget -q https://archive.apache.org/dist/spark/spark-3.4.1/spark-3.4.1-bin-hadoop3.tgz\n",
        "\n",
        "# Verify the download\n",
        "!ls -l spark-3.4.1-bin-hadoop3.tgz\n",
        "\n",
        "# Extract Spark only if the file exists\n",
        "if os.path.isfile('spark-3.4.1-bin-hadoop3.tgz'):\n",
        "    !tar xf spark-3.4.1-bin-hadoop3.tgz\n",
        "else:\n",
        "    print(\"Download failed: spark-3.4.1-bin-hadoop3.tgz not found.\")\n"
      ],
      "metadata": {
        "id": "21m5Ir_JsSsy"
      },
      "execution_count": null,
      "outputs": []
    },
    {
      "cell_type": "markdown",
      "source": [
        "**Set Environment Variables**"
      ],
      "metadata": {
        "id": "PAd_pmSn20bb"
      }
    },
    {
      "cell_type": "code",
      "execution_count": null,
      "metadata": {
        "id": "EfvDcz9MHD_h"
      },
      "outputs": [],
      "source": [
        "import os\n",
        "\n",
        "os.environ[\"JAVA_HOME\"] = \"/usr/lib/jvm/java-11-openjdk-amd64\"\n",
        "os.environ[\"SPARK_HOME\"] = \"/content/spark-3.4.1-bin-hadoop3\"\n",
        "os.environ[\"PATH\"] += \":/content/spark-3.4.1-bin-hadoop3/bin\"\n"
      ]
    },
    {
      "cell_type": "markdown",
      "source": [
        "**Initializing a SparkSession**"
      ],
      "metadata": {
        "id": "FVny5oD4JqWy"
      }
    },
    {
      "cell_type": "code",
      "source": [
        "from pyspark.sql import SparkSession\n",
        "\n",
        "# Initialize a Spark session\n",
        "spark = SparkSession.builder \\\n",
        "    .appName(\"ColabSparkApp\") \\\n",
        "    .config(\"spark.ui.port\", \"4050\") \\\n",
        "    .getOrCreate()\n",
        "\n",
        "# Test the Spark session\n",
        "df = spark.range(5)\n",
        "df.show()\n"
      ],
      "metadata": {
        "id": "SLEGz426FR4O"
      },
      "execution_count": null,
      "outputs": []
    },
    {
      "cell_type": "markdown",
      "source": [
        "** Download and Loading the Dataset**"
      ],
      "metadata": {
        "id": "zJ4M5U0O4Txb"
      }
    },
    {
      "cell_type": "code",
      "source": [
        "# Download the MovieLens dataset\n",
        "!wget -q https://files.grouplens.org/datasets/movielens/ml-latest-small.zip\n",
        "!unzip -q ml-latest-small.zip\n",
        "\n",
        "# Load the dataset into a Spark DataFrame\n",
        "ratings_file = '/content/ml-latest-small/ratings.csv'\n",
        "movies_file = '/content/ml-latest-small/movies.csv'\n",
        "\n",
        "ratings_df = spark.read.csv(ratings_file, header=True, inferSchema=True)\n",
        "movies_df = spark.read.csv(movies_file, header=True, inferSchema=True)\n",
        "\n",
        "# Show the first few rows of the ratings DataFrame\n",
        "ratings_df.show(5)\n",
        "# Show the first few rows of the movies DataFrame\n",
        "movies_df.show(5)\n"
      ],
      "metadata": {
        "id": "2GT36Aq4t36Z"
      },
      "execution_count": null,
      "outputs": []
    },
    {
      "cell_type": "markdown",
      "source": [
        "**Building the Recommender System**"
      ],
      "metadata": {
        "id": "jFRNonWU4a-K"
      }
    },
    {
      "cell_type": "code",
      "source": [
        "from pyspark.ml.recommendation import ALS\n",
        "from pyspark.ml.evaluation import RegressionEvaluator, MulticlassClassificationEvaluator\n",
        "from pyspark.sql import Row\n",
        "# Import the necessary function\n",
        "from pyspark.sql.functions import expr ,col# Import expr here\n",
        "\n",
        "\n",
        "# Split the data into training and test sets\n",
        "(training, test) = ratings_df.randomSplit([0.8, 0.2])\n",
        "\n",
        "# Build the recommendation model using ALS\n",
        "als = ALS(\n",
        "    maxIter=10,\n",
        "    regParam=0.1,\n",
        "    userCol=\"userId\",\n",
        "    itemCol=\"movieId\",\n",
        "    ratingCol=\"rating\",\n",
        "    coldStartStrategy=\"drop\"\n",
        ")\n",
        "\n",
        "# Train the model\n",
        "model = als.fit(training)\n",
        "\n",
        "# Make predictions\n",
        "predictions = model.transform(test)\n",
        "\n",
        "# Evaluate the model\n",
        "evaluator = RegressionEvaluator(\n",
        "    metricName=\"rmse\",\n",
        "    labelCol=\"rating\",\n",
        "    predictionCol=\"prediction\"\n",
        ")\n",
        "\n",
        "rmse = evaluator.evaluate(predictions)\n",
        "print(f\"Root-mean-square error = {rmse}\")\n",
        "# Step 3: Prepare Data for Evaluation\n",
        "threshold = 3.0\n",
        "# Now expr is defined and can be used\n",
        "predictions = predictions.withColumn(\"binary_prediction\", expr(f\"IF(prediction >= {threshold}, 1.0, 0.0)\"))\n",
        "predictions = predictions.withColumn(\"binary_rating\", expr(f\"IF(rating >= {threshold}, 1.0, 0.0)\"))\n",
        "# or\n",
        "predictions = predictions.withColumn(\"binary_prediction\", col(\"binary_prediction\").cast(\"double\"))\n",
        "predictions = predictions.withColumn(\"binary_rating\", col(\"binary_rating\").cast(\"double\"))\n",
        "\n",
        "# Step 5: Evaluate Accuracy and F1 Score\n",
        "# ... rest of your code ...# Step 5: Evaluate Accuracy and F1 Score\n",
        "accuracy_evaluator = MulticlassClassificationEvaluator( # Now MulticlassClassificationEvaluator is defined\n",
        "    labelCol=\"binary_rating\", predictionCol=\"binary_prediction\", metricName=\"accuracy\"\n",
        ")\n",
        "accuracy = accuracy_evaluator.evaluate(predictions)\n",
        "print(f\"Accuracy = {accuracy}\")\n",
        "\n",
        "f1_evaluator = MulticlassClassificationEvaluator( # Now MulticlassClassificationEvaluator is defined\n",
        "    labelCol=\"binary_rating\", predictionCol=\"binary_prediction\", metricName=\"f1\"\n",
        ")\n",
        "f1 = f1_evaluator.evaluate(predictions)\n",
        "print(f\"F1 Score = {f1}\")"
      ],
      "metadata": {
        "id": "94c7mBDvuCcD"
      },
      "execution_count": null,
      "outputs": []
    },
    {
      "cell_type": "markdown",
      "source": [
        "**Generate Movie Recommendations**"
      ],
      "metadata": {
        "id": "UnvSGxS44rl4"
      }
    },
    {
      "cell_type": "code",
      "source": [
        "from pyspark.sql.functions import lit\n",
        "\n",
        "# Get top 10 movie recommendations for a specific user\n",
        "user_id = 1\n",
        "\n",
        "# Create a DataFrame for the specific user\n",
        "user_df = ratings_df.filter(ratings_df.userId == user_id).select(\"movieId\").distinct()\n",
        "user_df = user_df.withColumn(\"userId\", lit(user_id)) # Now lit is defined and can be used\n",
        "\n",
        "# Get recommendations\n",
        "recommendations = model.transform(user_df)\n",
        "\n",
        "# Show the top 10 movie recommendations\n",
        "recommendations.orderBy(\"prediction\", ascending=False).show(10)\n"
      ],
      "metadata": {
        "id": "H2nZJi92uMAH"
      },
      "execution_count": null,
      "outputs": []
    },
    {
      "cell_type": "markdown",
      "source": [
        "**Display Movie Titles for Recommendations**"
      ],
      "metadata": {
        "id": "-ARLwqKK40WA"
      }
    },
    {
      "cell_type": "code",
      "source": [
        "from pyspark.sql.functions import lit\n",
        "\n",
        "# Join with movies DataFrame to get the movie titles\n",
        "recommendations_with_titles = recommendations.join(movies_df, \"movieId\")\n",
        "\n",
        "# Show the top 10 movie recommendations with titles\n",
        "recommendations_with_titles.select(\"title\", \"prediction\").orderBy(\"prediction\", ascending=False).show(10)\n"
      ],
      "metadata": {
        "colab": {
          "base_uri": "https://localhost:8080/",
          "height": 214
        },
        "id": "EtFZh0hX2SgP",
        "outputId": "8a0ee5ae-4f7e-410d-fd32-3e4cf43773bb"
      },
      "execution_count": null,
      "outputs": [
        {
          "output_type": "error",
          "ename": "NameError",
          "evalue": "name 'recommendations' is not defined",
          "traceback": [
            "\u001b[0;31m---------------------------------------------------------------------------\u001b[0m",
            "\u001b[0;31mNameError\u001b[0m                                 Traceback (most recent call last)",
            "\u001b[0;32m<ipython-input-1-b703b6786208>\u001b[0m in \u001b[0;36m<cell line: 4>\u001b[0;34m()\u001b[0m\n\u001b[1;32m      2\u001b[0m \u001b[0;34m\u001b[0m\u001b[0m\n\u001b[1;32m      3\u001b[0m \u001b[0;31m# Join with movies DataFrame to get the movie titles\u001b[0m\u001b[0;34m\u001b[0m\u001b[0;34m\u001b[0m\u001b[0m\n\u001b[0;32m----> 4\u001b[0;31m \u001b[0mrecommendations_with_titles\u001b[0m \u001b[0;34m=\u001b[0m \u001b[0mrecommendations\u001b[0m\u001b[0;34m.\u001b[0m\u001b[0mjoin\u001b[0m\u001b[0;34m(\u001b[0m\u001b[0mmovies_df\u001b[0m\u001b[0;34m,\u001b[0m \u001b[0;34m\"movieId\"\u001b[0m\u001b[0;34m)\u001b[0m\u001b[0;34m\u001b[0m\u001b[0;34m\u001b[0m\u001b[0m\n\u001b[0m\u001b[1;32m      5\u001b[0m \u001b[0;34m\u001b[0m\u001b[0m\n\u001b[1;32m      6\u001b[0m \u001b[0;31m# Show the top 10 movie recommendations with titles\u001b[0m\u001b[0;34m\u001b[0m\u001b[0;34m\u001b[0m\u001b[0m\n",
            "\u001b[0;31mNameError\u001b[0m: name 'recommendations' is not defined"
          ]
        }
      ]
    }
  ],
  "metadata": {
    "colab": {
      "provenance": [],
      "mount_file_id": "1NBpYWeHzfHKs3fbMRzSCO1o-ERV-X_TU",
      "authorship_tag": "ABX9TyPWXjZIX9Laxpso9nBCg7Fd",
      "include_colab_link": true
    },
    "kernelspec": {
      "display_name": "Python 3",
      "name": "python3"
    },
    "language_info": {
      "name": "python"
    }
  },
  "nbformat": 4,
  "nbformat_minor": 0
}