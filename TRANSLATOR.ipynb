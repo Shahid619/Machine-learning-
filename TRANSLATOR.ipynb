{
  "nbformat": 4,
  "nbformat_minor": 0,
  "metadata": {
    "colab": {
      "provenance": [],
      "authorship_tag": "ABX9TyOrhUBqN6WGEmumGjvlSmDq",
      "include_colab_link": true
    },
    "kernelspec": {
      "name": "python3",
      "display_name": "Python 3"
    },
    "language_info": {
      "name": "python"
    }
  },
  "cells": [
    {
      "cell_type": "markdown",
      "metadata": {
        "id": "view-in-github",
        "colab_type": "text"
      },
      "source": [
        "<a href=\"https://colab.research.google.com/github/Shahid619/Machine-learning-/blob/main/TRANSLATOR.ipynb\" target=\"_parent\"><img src=\"https://colab.research.google.com/assets/colab-badge.svg\" alt=\"Open In Colab\"/></a>"
      ]
    },
    {
      "cell_type": "code",
      "source": [
        "pip install translate\n"
      ],
      "metadata": {
        "id": "aUzifHqdaoKp"
      },
      "execution_count": null,
      "outputs": []
    },
    {
      "cell_type": "code",
      "source": [
        "pip install googletrans==4.0.0-rc1\n"
      ],
      "metadata": {
        "id": "ho5cWt_ubXm4"
      },
      "execution_count": null,
      "outputs": []
    },
    {
      "cell_type": "code",
      "source": [
        "!pip install names-dataset\n"
      ],
      "metadata": {
        "id": "4whnx8JSfP4S"
      },
      "execution_count": null,
      "outputs": []
    },
    {
      "cell_type": "code",
      "source": [
        "from googletrans import Translator\n",
        "from names_dataset import NameDataset\n",
        "\n",
        "def is_name(word):\n",
        "    name_data = NameDataset()\n",
        "    return name_data.search_first_name(word.lower()) is not None\n",
        "\n",
        "def translate_text(text, target_language):\n",
        "    translator = Translator()\n",
        "    translation = translator.translate(text, dest=target_language)\n",
        "    return translation.text\n",
        "\n",
        "def main():\n",
        "    while True:\n",
        "        print(\"1. English to Urdu\")\n",
        "        print(\"2. Urdu to English\")\n",
        "        print(\"3. Exit\")\n",
        "\n",
        "        choice = input(\"Enter your choice (1/2/3): \")\n",
        "\n",
        "        if choice == '1':\n",
        "            user_input = input(\"Enter English text to translate to Urdu: \")\n",
        "            translated_text = translate_text(user_input, 'ur')\n",
        "            print(\"Translated Text (Urdu):\", translated_text)\n",
        "\n",
        "        elif choice == '2':\n",
        "            user_input = input(\"Enter Urdu text to translate to English: \")\n",
        "            translated_text = translate_text(user_input, 'en')\n",
        "            print(\"Translated Text (English):\", translated_text)\n",
        "\n",
        "        elif choice == '3':\n",
        "            print(\"Exiting the translator. Goodbye!\")\n",
        "            break\n",
        "\n",
        "        else:\n",
        "            print(\"Invalid choice. Please enter 1, 2, or 3.\")\n",
        "\n",
        "if __name__ == \"__main__\":\n",
        "    main()\n"
      ],
      "metadata": {
        "id": "LPtRSu3MbRc0"
      },
      "execution_count": null,
      "outputs": []
    },
    {
      "cell_type": "markdown",
      "source": [
        "\n",
        "\n",
        "---\n",
        "---\n"
      ],
      "metadata": {
        "id": "Ew5f5J7SlDto"
      }
    },
    {
      "cell_type": "markdown",
      "source": [
        "EXPLAINATION:"
      ],
      "metadata": {
        "id": "7Auj2SMUjokk"
      }
    },
    {
      "cell_type": "markdown",
      "source": [
        "importing necessary libraries ,I  import the **Translator** class from the **googletran**s library for language translation and the **NameDataset** class from the **names_dataset** library for handling names."
      ],
      "metadata": {
        "id": "2fpOfxkkjspF"
      }
    },
    {
      "cell_type": "code",
      "source": [
        "from googletrans import Translator\n",
        "from names_dataset import NameDataset"
      ],
      "metadata": {
        "id": "2R7kUKoTjrJq"
      },
      "execution_count": null,
      "outputs": []
    },
    {
      "cell_type": "markdown",
      "source": [
        "This function, **is_name**, checks whether a given word is likely a name by searching for it in the **NameDataset**. It returns True if the word is a name and False otherwise."
      ],
      "metadata": {
        "id": "yWICPoXOkJHc"
      }
    },
    {
      "cell_type": "code",
      "source": [
        "def is_name(word):\n",
        "    name_data = NameDataset()\n",
        "    return name_data.search_first_name(word.lower()) is not None\n"
      ],
      "metadata": {
        "id": "Tqr8p1pYkKpL"
      },
      "execution_count": null,
      "outputs": []
    },
    {
      "cell_type": "markdown",
      "source": [
        "This function, **translate_text**, takes a piece of text and a target language as input, uses the Translator to perform the translation, and returns the translated text."
      ],
      "metadata": {
        "id": "IPVEaN-LkXpH"
      }
    },
    {
      "cell_type": "code",
      "source": [
        "def translate_text(text, target_language):\n",
        "    translator = Translator()\n",
        "    translation = translator.translate(text, dest=target_language)\n",
        "    return translation.text\n"
      ],
      "metadata": {
        "id": "m5WMF-o9kYI6"
      },
      "execution_count": null,
      "outputs": []
    },
    {
      "cell_type": "markdown",
      "source": [
        "main function:"
      ],
      "metadata": {
        "id": "rXuvPyErkmaC"
      }
    },
    {
      "cell_type": "code",
      "source": [
        "def main():\n",
        "    while True:\n",
        "        print(\"1. English to Urdu\")\n",
        "        print(\"2. Urdu to English\")\n",
        "        print(\"3. Exit\")\n",
        "\n",
        "        choice = input(\"Enter your choice (1/2/3): \")\n",
        "\n",
        "        if choice == '1':\n",
        "            user_input = input(\"Enter English text to translate to Urdu: \")\n",
        "            translated_text = translate_text(user_input, 'ur')\n",
        "            print(\"Translated Text (Urdu):\", translated_text)\n",
        "\n",
        "        elif choice == '2':\n",
        "            user_input = input(\"Enter Urdu text to translate to English: \")\n",
        "            translated_text = translate_text(user_input, 'en')\n",
        "            print(\"Translated Text (English):\", translated_text)\n",
        "\n",
        "        elif choice == '3':\n",
        "            print(\"Exiting the translator. Goodbye!\")\n",
        "            break\n",
        "\n",
        "        else:\n",
        "            print(\"Invalid choice. Please enter 1, 2, or 3.\")\n"
      ],
      "metadata": {
        "id": "KBSB0Q8WkqSs"
      },
      "execution_count": null,
      "outputs": []
    },
    {
      "cell_type": "markdown",
      "source": [
        "Run the main function:"
      ],
      "metadata": {
        "id": "6QQIaT4bkwrM"
      }
    },
    {
      "cell_type": "code",
      "source": [
        "if __name__ == \"__main__\":\n",
        "    main()\n"
      ],
      "metadata": {
        "id": "FJL_O3QGk3Iz"
      },
      "execution_count": null,
      "outputs": []
    }
  ]
}