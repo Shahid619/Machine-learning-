{
  "nbformat": 4,
  "nbformat_minor": 0,
  "metadata": {
    "colab": {
      "provenance": [],
      "authorship_tag": "ABX9TyMuBE2QLC2p7y0CgP2sHv4x",
      "include_colab_link": true
    },
    "kernelspec": {
      "name": "python3",
      "display_name": "Python 3"
    },
    "language_info": {
      "name": "python"
    }
  },
  "cells": [
    {
      "cell_type": "markdown",
      "metadata": {
        "id": "view-in-github",
        "colab_type": "text"
      },
      "source": [
        "<a href=\"https://colab.research.google.com/github/Shahid619/Machine-learning-/blob/main/linear_Regression_Notes.ipynb\" target=\"_parent\"><img src=\"https://colab.research.google.com/assets/colab-badge.svg\" alt=\"Open In Colab\"/></a>"
      ]
    },
    {
      "cell_type": "markdown",
      "source": [
        "Certainly! Linear regression is a simple but foundational machine learning algorithm used for predictive modeling. Let's go through each step of implementing a linear regression model, explain the purpose of each step, and discuss possible variations or alternatives:\n",
        "\n",
        "Step 1: Import Libraries"
      ],
      "metadata": {
        "id": "YQXEqhuzdVc7"
      }
    },
    {
      "cell_type": "code",
      "execution_count": 2,
      "metadata": {
        "id": "6cmbMxH0ZxRz"
      },
      "outputs": [],
      "source": [
        "import numpy as np\n",
        "import sklearn\n",
        "from sklearn.linear_model import LinearRegression\n",
        "import matplotlib.pyplot as plt"
      ]
    },
    {
      "cell_type": "markdown",
      "source": [
        "This code generates synthetic data for a simple linear regression problem. Let's explain each part:\n",
        "\n",
        "    x = np.random.rand(100, 1) * 10:\n",
        "        np.random.rand(100, 1) generates an array of random numbers between 0 and 1 with a shape of (100, 1). This means it creates 100 random values, each in its own row.\n",
        "        * 10 multiplies these random values by 10.\n",
        "        So, x ends up as an array of 100 random numbers between 0 and 10. These are the input features in this synthetic dataset.\n",
        "\n",
        "    Logic: By multiplying the random values by 10, we are scaling them to a range that suits the problem at hand. In this example, we are essentially saying that the input features (x) will have values between 0 and 10.\n",
        "\n",
        "    y = 2 * x + 3 + np.random.rand(100, 1):\n",
        "        2 * x calculates the output values based on a linear relationship with the input features x. In this case, it's a simple linear equation y = 2x.\n",
        "        + 3 adds a constant term of 3 to each output value.\n",
        "        np.random.rand(100, 1) generates random noise with the same shape as the output. This noise adds randomness to the data to simulate real-world situations where data is not perfectly linear.\n",
        "\n",
        "    Logic: The linear equation y = 2x + 3 represents the underlying relationship between the input (x) and output (y) in this synthetic dataset. The random noise (np.random.rand(100, 1)) is added to make the data more realistic by introducing variability.\n",
        "\n",
        "You can change various parts of this code to explore different scenarios:\n",
        "\n",
        "    You can change the multiplier in * 10 to any other number to scale the input features differently.\n",
        "\n",
        "    You can change the coefficients (2 and 3) in 2 * x + 3 to represent a different linear relationship.\n",
        "\n",
        "    You can modify the noise term by changing np.random.rand(100, 1) or removing it entirely if you want a purely linear relationship without noise.\n",
        "\n",
        "The specific values and equations used in this code are chosen to create a simple synthetic dataset for illustrative purposes. In practice, you would adapt the code to reflect the characteristics of your real-world data and the relationships you want to model."
      ],
      "metadata": {
        "id": "g4ndMSU8dXLq"
      }
    },
    {
      "cell_type": "code",
      "source": [
        "x=np.random.rand(100,1)*10\n",
        "y=2*x+3+np.random.rand(100,1)\n"
      ],
      "metadata": {
        "id": "ROm02OOJaZw_"
      },
      "execution_count": 30,
      "outputs": []
    },
    {
      "cell_type": "markdown",
      "source": [
        "      Purpose: Create an instance of the LinearRegression model.\n",
        "      Logic: We use scikit-learn's LinearRegression class to create a linear .\n",
        "      regression model. This model will learn to fit a linear function to the data."
      ],
      "metadata": {
        "id": "GSsLgTZEhRk4"
      }
    },
    {
      "cell_type": "code",
      "source": [
        "reg=LinearRegression()"
      ],
      "metadata": {
        "id": "Owpfy3v9auTL"
      },
      "execution_count": 4,
      "outputs": []
    },
    {
      "cell_type": "markdown",
      "source": [
        "Train the linear regression model on the data.\n",
        "Logic: We use the fit method to train the model by providing it with the feature data (X) and target data (y). The model learns the coefficients (slope and intercept) that minimize the error between its predictions and the actual data."
      ],
      "metadata": {
        "id": "oxkv_mX_ht4r"
      }
    },
    {
      "cell_type": "code",
      "source": [
        "reg.fit(x,y)"
      ],
      "metadata": {
        "id": "jllyMT6va389"
      },
      "execution_count": null,
      "outputs": []
    },
    {
      "cell_type": "markdown",
      "source": [
        " Use the trained model to make predictions.\n",
        "Logic: We provide a new input value (X_new) and use the predict method to make a prediction based on the learned linear model. In this example, we predict the output for X_new, which is 4."
      ],
      "metadata": {
        "id": "YatdbDPfhzdZ"
      }
    },
    {
      "cell_type": "code",
      "source": [
        "x_new=([[4]])\n",
        "predict=reg.predict(x_new)\n",
        "\n",
        "print(f\"prediction :{predict[0][0]}\")"
      ],
      "metadata": {
        "id": "DKj7C3Z3bGBS"
      },
      "execution_count": null,
      "outputs": []
    },
    {
      "cell_type": "markdown",
      "source": [
        "Visualize the data and the fitted regression line.\n",
        "\n",
        "Logic: We use Matplotlib to create a scatter plot of the data points (X vs. y) and overlay the fitted regression line (reg.predict(X)) in red. Visualization helps us understand how well the model fits the data."
      ],
      "metadata": {
        "id": "hY4uHQOph7QT"
      }
    },
    {
      "cell_type": "code",
      "source": [
        "plt.scatter(x,y,label=\"DATA\")\n",
        "\n",
        "plt.plot(x,reg.predict(x),color='red', linewidth=3, label=\"Regression Line\")\n",
        "plt.xlabel(\"Input Features\")\n",
        "plt.ylabel(\"Target\")\n",
        "plt.legend()\n",
        "plt.show()"
      ],
      "metadata": {
        "id": "A08O3zq0beSi"
      },
      "execution_count": null,
      "outputs": []
    }
  ]
}